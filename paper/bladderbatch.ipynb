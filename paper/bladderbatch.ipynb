{
 "cells": [
  {
   "cell_type": "code",
   "execution_count": 1,
   "id": "b114e384-c338-46b1-97b6-af766a8469da",
   "metadata": {},
   "outputs": [],
   "source": [
    "import os\n",
    "import warnings\n",
    "from pathlib import Path\n",
    "\n",
    "import pandas as pd\n",
    "import patsy\n",
    "import numpy as np\n",
    "import seaborn as sns\n",
    "import time\n",
    "\n",
    "import matplotlib.pyplot as plt\n",
    "import sklearn.manifold as skmf\n",
    "import sklearn.decomposition as skdc\n",
    "import sklearn.metrics as skmr\n",
    "\n",
    "import condo\n",
    "\n",
    "from combat import combat"
   ]
  },
  {
   "cell_type": "code",
   "execution_count": 2,
   "id": "d6d9a502-3d83-491e-a815-ea0509fb222a",
   "metadata": {},
   "outputs": [],
   "source": [
    "this_file = os.path.realpath('__file__')\n",
    "data_path = os.path.join(Path(this_file).parent.parent, 'data')\n",
    "data_path = '/Users/calvinm/sandbox/condo-adapter/data/'\n",
    "pheno = pd.read_csv(os.path.join(data_path, 'pheno25.csv'), index_col=0)\n",
    "expr = pd.read_csv(os.path.join(data_path, 'expr25.csv'), index_col=0)\n",
    "exprTranspose = expr.T\n",
    "\n",
    "mmd_size = 20"
   ]
  },
  {
   "cell_type": "code",
   "execution_count": 3,
   "id": "37e89179-d2f8-4a1f-8fce-a3875a7e8fea",
   "metadata": {
    "tags": []
   },
   "outputs": [
    {
     "name": "stderr",
     "output_type": "stream",
     "text": [
      "found 2 batches\n",
      "found 1 numerical covariates...\n",
      "\tage\n",
      "found 2 categorical variables:\tcancer[T.Cancer], cancer[T.Normal]\n",
      "Standardizing Data across genes.\n",
      "Fitting L/S model and finding priors\n",
      "Finding parametric adjustments\n"
     ]
    },
    {
     "name": "stdout",
     "output_type": "stream",
     "text": [
      "Adjusting data\n",
      "Combat time: 0.20929408073425293\n",
      "Gaussian OT time: 0.020589113235473633\n"
     ]
    }
   ],
   "source": [
    "# Combat\n",
    "start_time = time.time()\n",
    "mod = patsy.dmatrix(\"~ age + cancer\", pheno, return_type=\"dataframe\")\n",
    "exprTranspose_combat = combat(exprTranspose, pheno['batch'], mod, \"age\")\n",
    "expr_combat = exprTranspose_combat.T\n",
    "duration_combat = time.time() - start_time\n",
    "print(f\"Combat time: {duration_combat}\")\n",
    "\n",
    "# Gaussian OT\n",
    "start_time = time.time()\n",
    "lder = condo.AdapterGaussianOT(\n",
    "    transform_type=\"location-scale\",\n",
    ")\n",
    "lder.fit(\n",
    "    expr[pheno.batch == 2].values, \n",
    "    expr[pheno.batch == 5].values,\n",
    ")\n",
    "expr_linear = lder.transform(expr.values)\n",
    "duration_linear = time.time() - start_time\n",
    "print(f\"Gaussian OT time: {duration_linear}\")\n",
    "expr_linear[np.where(pheno.batch == 5)[0],:] = expr.values[np.where(pheno.batch == 5)[0],:]"
   ]
  },
  {
   "cell_type": "code",
   "execution_count": 4,
   "id": "ab9078f6-b164-43aa-bb05-4c614c126a20",
   "metadata": {
    "tags": []
   },
   "outputs": [
    {
     "name": "stdout",
     "output_type": "stream",
     "text": [
      "MMD time: 17.95270586013794\n"
     ]
    }
   ],
   "source": [
    "# MMD\n",
    "start_time = time.time()\n",
    "mmder = condo.AdapterMMD(\n",
    "    transform_type=\"location-scale\",\n",
    "    n_epochs=100,\n",
    "    learning_rate=1e-2,\n",
    "    mmd_size=mmd_size,\n",
    "    verbose=False,\n",
    ")\n",
    "mmder.fit(\n",
    "    expr[pheno.batch == 2].values, \n",
    "    expr[pheno.batch == 5].values,\n",
    ")\n",
    "expr_mmd = mmder.transform(expr.values)\n",
    "duration_mmd = time.time() - start_time\n",
    "print(f\"MMD time: {duration_mmd}\")\n",
    "expr_mmd[np.where(pheno.batch == 5)[0],:] = expr.values[np.where(pheno.batch == 5)[0],:]"
   ]
  },
  {
   "cell_type": "code",
   "execution_count": 5,
   "id": "dadd2ab9-4cda-4ce1-9a00-6afb202ec7a2",
   "metadata": {
    "tags": []
   },
   "outputs": [
    {
     "name": "stdout",
     "output_type": "stream",
     "text": [
      "ConDo Gaussian KLD time: 2.770442008972168\n"
     ]
    }
   ],
   "source": [
    "# Condo Gaussian KLD\n",
    "start_time = time.time()\n",
    "cder_clinear = condo.ConDoAdapterKLD(\n",
    "    transform_type=\"location-scale\",\n",
    "    verbose=0,\n",
    ")\n",
    "cder_clinear.fit(\n",
    "    expr[pheno.batch == 2].values, \n",
    "    expr[pheno.batch == 5].values,\n",
    "    pheno[pheno.batch==2].result.values.reshape(-1, 1).astype(str),\n",
    "    pheno[pheno.batch==5].result.values.reshape(-1, 1).astype(str),\n",
    ")\n",
    "expr_clinear = cder_clinear.transform(expr.values)\n",
    "duration_clinear = time.time() - start_time\n",
    "print(f\"ConDo Gaussian KLD time: {duration_clinear}\")\n",
    "expr_clinear[np.where(pheno.batch == 5)[0],:] = expr.values[np.where(pheno.batch == 5)[0],:]"
   ]
  },
  {
   "cell_type": "code",
   "execution_count": 6,
   "id": "ee45c419-fc16-4ba2-a852-807c02153507",
   "metadata": {
    "tags": []
   },
   "outputs": [
    {
     "name": "stdout",
     "output_type": "stream",
     "text": [
      "ConDo MMD: 17.710924863815308\n"
     ]
    }
   ],
   "source": [
    "start_time = time.time()\n",
    "cder_mmd = condo.ConDoAdapterMMD(\n",
    "    transform_type=\"location-scale\",\n",
    "    n_epochs=100,\n",
    "    learning_rate=1e-2,\n",
    "    mmd_size=mmd_size,\n",
    "    verbose=False,\n",
    ")\n",
    "cder_mmd.fit(\n",
    "    expr[pheno.batch == 2].values, \n",
    "    expr[pheno.batch == 5].values,\n",
    "    pheno[pheno.batch==2].result.values.reshape(-1, 1).astype(str),\n",
    "    pheno[pheno.batch==5].result.values.reshape(-1, 1).astype(str),\n",
    ")\n",
    "expr_cmmd = cder_mmd.transform(expr.values)\n",
    "duration_cmmd = time.time() - start_time\n",
    "print(f\"ConDo MMD: {duration_cmmd}\")\n",
    "expr_cmmd[np.where(pheno.batch == 5)[0],:] = expr.values[np.where(pheno.batch == 5)[0],:]"
   ]
  },
  {
   "cell_type": "code",
   "execution_count": 11,
   "id": "ee07a257-ab8c-4ab3-ae71-d2e56580c2fa",
   "metadata": {},
   "outputs": [
    {
     "name": "stdout",
     "output_type": "stream",
     "text": [
      "Original 0.08843292720229044 0.27981748504543436\n",
      "Combat -0.0177958844661008 0.3267963793654045\n",
      "Gaussian OT -0.027900412797362262 0.30077944884881963\n",
      "MMD -0.021541523591874844 0.3123660135882727\n",
      "ConDo Gaussian KLD -0.019478039144033576 0.3120783679442728\n",
      "ConDo MMD -0.01876002782916628 0.3111986239531965\n",
      "\n",
      "\n",
      "Original 4.85355038775955 13.889936702601817\n",
      "Combat 0.34951560406815835 17.39402961266026\n",
      "Gaussian OT 1.787392267802455e-28 15.614208154753587\n",
      "MMD 0.08831952187482882 16.402574782099332\n",
      "ConDo Gaussian KLD 0.13319091386745463 16.376403524532925\n",
      "ConDo MMD 0.12251326673970811 16.416689472565682\n"
     ]
    }
   ],
   "source": [
    "dinfos = [\n",
    "    (0, \"Original\", expr),\n",
    "    (1, \"Combat\", expr_combat),\n",
    "    (2, \"Gaussian OT\", expr_linear),\n",
    "    (3, \"MMD\", expr_mmd),\n",
    "    (4, \"ConDo Gaussian KLD\", expr_clinear),\n",
    "    (5, \"ConDo MMD\", expr_cmmd),\n",
    "]\n",
    "for dix, dname, dset in dinfos:\n",
    "    sil_result = skmr.silhouette_score(dset, pheno.result, metric='euclidean')\n",
    "    sil_batch = skmr.silhouette_score(dset, pheno.batch, metric='euclidean')\n",
    "    dtitle = f\"{dname}\\n{sil_batch:.2f} (batch), {sil_result:.2f} (result)\"\n",
    "    print(dname, sil_batch, sil_result)\n",
    "print(\"\\n\")\n",
    "for dix, dname, dset in dinfos:\n",
    "    ch_result = skmr.calinski_harabasz_score(dset, pheno.result)\n",
    "    ch_batch = skmr.calinski_harabasz_score(dset, pheno.batch)\n",
    "    dtitle = f\"{dname}\\n{sil_batch:.2f} (batch), {sil_result:.2f} (result)\"\n",
    "    print(dname, ch_batch, ch_result)"
   ]
  },
  {
   "cell_type": "code",
   "execution_count": null,
   "id": "05da06a3-a8eb-4988-8801-65c2639ba4cc",
   "metadata": {},
   "outputs": [],
   "source": []
  }
 ],
 "metadata": {
  "kernelspec": {
   "display_name": "Python 3 (ipykernel)",
   "language": "python",
   "name": "python3"
  },
  "language_info": {
   "codemirror_mode": {
    "name": "ipython",
    "version": 3
   },
   "file_extension": ".py",
   "mimetype": "text/x-python",
   "name": "python",
   "nbconvert_exporter": "python",
   "pygments_lexer": "ipython3",
   "version": "3.9.18"
  }
 },
 "nbformat": 4,
 "nbformat_minor": 5
}
