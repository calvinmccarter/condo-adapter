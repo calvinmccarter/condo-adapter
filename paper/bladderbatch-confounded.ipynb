{
 "cells": [
  {
   "cell_type": "code",
   "execution_count": 1,
   "id": "b114e384-c338-46b1-97b6-af766a8469da",
   "metadata": {},
   "outputs": [],
   "source": [
    "from collections import defaultdict\n",
    "\n",
    "import os\n",
    "import warnings\n",
    "from pathlib import Path\n",
    "\n",
    "import pandas as pd\n",
    "import patsy\n",
    "import numpy as np\n",
    "import seaborn as sns\n",
    "import time\n",
    "\n",
    "import matplotlib.pyplot as plt\n",
    "import sklearn.manifold as skmf\n",
    "import sklearn.decomposition as skdc\n",
    "import sklearn.metrics as skmr\n",
    "\n",
    "import condo\n",
    "\n",
    "from combat import combat"
   ]
  },
  {
   "cell_type": "code",
   "execution_count": 2,
   "id": "741b5c4a-d8d6-4346-9c45-923e4b70f8d6",
   "metadata": {},
   "outputs": [],
   "source": [
    "this_file = os.path.realpath('__file__')\n",
    "data_path = os.path.join(Path(this_file).parent.parent, 'data')\n",
    "data_path = '/Users/calvinm/sandbox/condo-adapter/data/'\n",
    "all_pheno = pd.read_csv(os.path.join(data_path, 'pheno25.csv'), index_col=0)\n",
    "all_expr = pd.read_csv(os.path.join(data_path, 'expr25.csv'), index_col=0)\n",
    "\n",
    "num_random = 10\n",
    "mmd_size = 20\n",
    "sil_results = defaultdict(list)\n",
    "sil_batches = defaultdict(list)\n",
    "ch_results = defaultdict(list)\n",
    "ch_batches = defaultdict(list)\n",
    "db_results = defaultdict(list)\n",
    "db_batches = defaultdict(list)\n",
    "\n",
    "num_removecancer = 7"
   ]
  },
  {
   "cell_type": "code",
   "execution_count": 3,
   "id": "7a4143fe-f7b0-49dc-bcfc-e7e408aec6a5",
   "metadata": {},
   "outputs": [
    {
     "name": "stdout",
     "output_type": "stream",
     "text": [
      "rix:0 7\n",
      "Adjusting data\n"
     ]
    },
    {
     "name": "stderr",
     "output_type": "stream",
     "text": [
      "found 2 batches\n",
      "found 1 numerical covariates...\n",
      "\tage\n",
      "found 2 categorical variables:\tcancer[T.Cancer], cancer[T.Normal]\n",
      "Standardizing Data across genes.\n",
      "Fitting L/S model and finding priors\n",
      "Finding parametric adjustments\n"
     ]
    },
    {
     "name": "stdout",
     "output_type": "stream",
     "text": [
      "rix:1 7\n",
      "Adjusting data\n"
     ]
    },
    {
     "name": "stderr",
     "output_type": "stream",
     "text": [
      "found 2 batches\n",
      "found 1 numerical covariates...\n",
      "\tage\n",
      "found 2 categorical variables:\tcancer[T.Cancer], cancer[T.Normal]\n",
      "Standardizing Data across genes.\n",
      "Fitting L/S model and finding priors\n",
      "Finding parametric adjustments\n"
     ]
    },
    {
     "name": "stdout",
     "output_type": "stream",
     "text": [
      "rix:2 7\n",
      "Adjusting data\n"
     ]
    },
    {
     "name": "stderr",
     "output_type": "stream",
     "text": [
      "found 2 batches\n",
      "found 1 numerical covariates...\n",
      "\tage\n",
      "found 2 categorical variables:\tcancer[T.Cancer], cancer[T.Normal]\n",
      "Standardizing Data across genes.\n",
      "Fitting L/S model and finding priors\n",
      "Finding parametric adjustments\n"
     ]
    },
    {
     "name": "stdout",
     "output_type": "stream",
     "text": [
      "rix:3 7\n",
      "Adjusting data\n"
     ]
    },
    {
     "name": "stderr",
     "output_type": "stream",
     "text": [
      "found 2 batches\n",
      "found 1 numerical covariates...\n",
      "\tage\n",
      "found 2 categorical variables:\tcancer[T.Cancer], cancer[T.Normal]\n",
      "Standardizing Data across genes.\n",
      "Fitting L/S model and finding priors\n",
      "Finding parametric adjustments\n"
     ]
    },
    {
     "name": "stdout",
     "output_type": "stream",
     "text": [
      "rix:4 7\n",
      "Adjusting data\n"
     ]
    },
    {
     "name": "stderr",
     "output_type": "stream",
     "text": [
      "found 2 batches\n",
      "found 1 numerical covariates...\n",
      "\tage\n",
      "found 2 categorical variables:\tcancer[T.Cancer], cancer[T.Normal]\n",
      "Standardizing Data across genes.\n",
      "Fitting L/S model and finding priors\n",
      "Finding parametric adjustments\n"
     ]
    },
    {
     "name": "stdout",
     "output_type": "stream",
     "text": [
      "rix:5 7\n",
      "Adjusting data\n"
     ]
    },
    {
     "name": "stderr",
     "output_type": "stream",
     "text": [
      "found 2 batches\n",
      "found 1 numerical covariates...\n",
      "\tage\n",
      "found 2 categorical variables:\tcancer[T.Cancer], cancer[T.Normal]\n",
      "Standardizing Data across genes.\n",
      "Fitting L/S model and finding priors\n",
      "Finding parametric adjustments\n"
     ]
    },
    {
     "name": "stdout",
     "output_type": "stream",
     "text": [
      "rix:6 7\n",
      "Adjusting data\n"
     ]
    },
    {
     "name": "stderr",
     "output_type": "stream",
     "text": [
      "found 2 batches\n",
      "found 1 numerical covariates...\n",
      "\tage\n",
      "found 2 categorical variables:\tcancer[T.Cancer], cancer[T.Normal]\n",
      "Standardizing Data across genes.\n",
      "Fitting L/S model and finding priors\n",
      "Finding parametric adjustments\n"
     ]
    },
    {
     "name": "stdout",
     "output_type": "stream",
     "text": [
      "rix:7 7\n",
      "Adjusting data\n"
     ]
    },
    {
     "name": "stderr",
     "output_type": "stream",
     "text": [
      "found 2 batches\n",
      "found 1 numerical covariates...\n",
      "\tage\n",
      "found 2 categorical variables:\tcancer[T.Cancer], cancer[T.Normal]\n",
      "Standardizing Data across genes.\n",
      "Fitting L/S model and finding priors\n",
      "Finding parametric adjustments\n"
     ]
    },
    {
     "name": "stdout",
     "output_type": "stream",
     "text": [
      "rix:8 7\n",
      "Adjusting data\n"
     ]
    },
    {
     "name": "stderr",
     "output_type": "stream",
     "text": [
      "found 2 batches\n",
      "found 1 numerical covariates...\n",
      "\tage\n",
      "found 2 categorical variables:\tcancer[T.Cancer], cancer[T.Normal]\n",
      "Standardizing Data across genes.\n",
      "Fitting L/S model and finding priors\n",
      "Finding parametric adjustments\n"
     ]
    },
    {
     "name": "stdout",
     "output_type": "stream",
     "text": [
      "rix:9 7\n",
      "Adjusting data\n"
     ]
    },
    {
     "name": "stderr",
     "output_type": "stream",
     "text": [
      "found 2 batches\n",
      "found 1 numerical covariates...\n",
      "\tage\n",
      "found 2 categorical variables:\tcancer[T.Cancer], cancer[T.Normal]\n",
      "Standardizing Data across genes.\n",
      "Fitting L/S model and finding priors\n",
      "Finding parametric adjustments\n"
     ]
    }
   ],
   "source": [
    "for rix in range(num_random):\n",
    "    print(f\"rix:{rix} {num_removecancer}\")\n",
    "    rng = np.random.RandomState(rix)\n",
    "    cancer2_ixs = np.where((all_pheno.batch == 2) & (all_pheno.result == \"Cancer\"))[0]\n",
    "    victim_ixs = list(rng.choice(cancer2_ixs, size=num_removecancer, replace=False))\n",
    "    chosen_ixs = [ix for ix in range(all_pheno.shape[0]) if ix not in victim_ixs]\n",
    "    pheno = all_pheno.iloc[chosen_ixs, :]\n",
    "    expr = all_expr.iloc[chosen_ixs, :]\n",
    "    exprTranspose = expr.T\n",
    "\n",
    "    # Combat\n",
    "    start_time = time.time()\n",
    "    mod = patsy.dmatrix(\"~ age + cancer\", pheno, return_type=\"dataframe\")\n",
    "    exprTranspose_combat = combat(exprTranspose, pheno['batch'], mod, \"age\")\n",
    "    expr_combat = exprTranspose_combat.T\n",
    "    duration_combat = time.time() - start_time\n",
    "    #print(f\"Combat time: {duration_combat}\")\n",
    "    \n",
    "    # Gaussian OT\n",
    "    start_time = time.time()\n",
    "    lder = condo.AdapterGaussianOT(\n",
    "        transform_type=\"location-scale\",\n",
    "    )\n",
    "    lder.fit(\n",
    "        expr[pheno.batch == 2].values, \n",
    "        expr[pheno.batch == 5].values,\n",
    "    )\n",
    "    expr_linear = lder.transform(expr.values)\n",
    "    duration_linear = time.time() - start_time\n",
    "    #print(f\"Gaussian OT time: {duration_linear}\")\n",
    "    expr_linear[np.where(pheno.batch == 5)[0],:] = expr.values[np.where(pheno.batch == 5)[0],:]\n",
    "\n",
    "    # MMD\n",
    "    start_time = time.time()\n",
    "    mmder = condo.AdapterMMD(\n",
    "        transform_type=\"location-scale\",\n",
    "        n_epochs=100,\n",
    "        learning_rate=1e-2,\n",
    "        mmd_size=mmd_size,\n",
    "        verbose=False,\n",
    "    )\n",
    "    mmder.fit(\n",
    "        expr[pheno.batch == 2].values, \n",
    "        expr[pheno.batch == 5].values,\n",
    "    )\n",
    "    expr_mmd = mmder.transform(expr.values)\n",
    "    duration_mmd = time.time() - start_time\n",
    "    #print(f\"MMD time: {duration_mmd}\")\n",
    "    expr_mmd[np.where(pheno.batch == 5)[0],:] = expr.values[np.where(pheno.batch == 5)[0],:]\n",
    "    \n",
    "    # Condo Linear ReverseKL\n",
    "    start_time = time.time()\n",
    "    cder_clinear = condo.ConDoAdapterKLD(\n",
    "        transform_type=\"location-scale\",\n",
    "        verbose=0,\n",
    "    )\n",
    "    cder_clinear.fit(\n",
    "        expr[pheno.batch == 2].values, \n",
    "        expr[pheno.batch == 5].values,\n",
    "        pheno[pheno.batch==2].result.values.reshape(-1, 1).astype(str),\n",
    "        pheno[pheno.batch==5].result.values.reshape(-1, 1).astype(str),\n",
    "    )\n",
    "    expr_clinear = cder_clinear.transform(expr.values)\n",
    "    duration_clinear = time.time() - start_time\n",
    "    #print(f\"ConDo Linear-ReverseKL time: {duration_clinear}\")\n",
    "    expr_clinear[np.where(pheno.batch == 5)[0],:] = expr.values[np.where(pheno.batch == 5)[0],:]\n",
    "\n",
    "    start_time = time.time()\n",
    "    cder_mmd = condo.ConDoAdapterMMD(\n",
    "        transform_type=\"location-scale\",\n",
    "        n_epochs=100,\n",
    "        learning_rate=1e-2,\n",
    "        mmd_size=mmd_size,\n",
    "        verbose=False,\n",
    "    )\n",
    "    cder_mmd.fit(\n",
    "        expr[pheno.batch == 2].values, \n",
    "        expr[pheno.batch == 5].values,\n",
    "        pheno[pheno.batch==2].result.values.reshape(-1, 1).astype(str),\n",
    "        pheno[pheno.batch==5].result.values.reshape(-1, 1).astype(str),\n",
    "    )\n",
    "    expr_cmmd = cder_mmd.transform(expr.values)\n",
    "    duration_cmmd = time.time() - start_time\n",
    "    #print(f\"ConDo MMD time: {duration_cmmd}\")\n",
    "    expr_cmmd[np.where(pheno.batch == 5)[0],:] = expr.values[np.where(pheno.batch == 5)[0],:]\n",
    "    \n",
    "    dinfos = [\n",
    "        (0, \"Original\", expr),\n",
    "        (1, \"Combat\", expr_combat),\n",
    "        (1, \"Gaussian OT\", expr_linear),\n",
    "        (2, \"MMD\", expr_mmd),\n",
    "        (3, \"ConDo Gaussian KLD\", expr_clinear),\n",
    "        (4, \"ConDo MMD\", expr_cmmd),\n",
    "    ]\n",
    "    for dix, dname, dset in dinfos:\n",
    "        sil_result = skmr.silhouette_score(dset, pheno.result, metric='euclidean')\n",
    "        sil_batch = skmr.silhouette_score(dset, pheno.batch, metric='euclidean')\n",
    "        sil_results[dname].append(sil_result)\n",
    "        sil_batches[dname].append(sil_batch)\n",
    "        ch_result = skmr.calinski_harabasz_score(dset, pheno.result)\n",
    "        ch_batch = skmr.calinski_harabasz_score(dset, pheno.batch)\n",
    "        ch_results[dname].append(ch_result)\n",
    "        ch_batches[dname].append(ch_batch)\n",
    "        db_result = skmr.davies_bouldin_score(dset, pheno.result)\n",
    "        db_batch = skmr.davies_bouldin_score(dset, pheno.batch)\n",
    "        db_results[dname].append(db_result)\n",
    "        db_batches[dname].append(db_batch)"
   ]
  },
  {
   "cell_type": "code",
   "execution_count": 4,
   "id": "a1450ed7-c56e-4a13-9447-05276a74e25a",
   "metadata": {},
   "outputs": [
    {
     "name": "stdout",
     "output_type": "stream",
     "text": [
      "batches\n",
      "Original 4.765380130693893 0.3855893756573822\n",
      "Combat 0.7650249597113311 0.08020651095779471\n",
      "Gaussian OT 1.3075438883305155e-28 9.483918223207937e-31\n",
      "MMD 0.14170251750011237 0.02840759941655643\n",
      "ConDo Gaussian KLD 0.40372109198038036 0.013264431466850225\n",
      "ConDo MMD 0.3628903001377174 0.053638252876084265\n",
      "results\n",
      "Original 14.066077188366407 0.5033701478082329\n",
      "Combat 16.552256306492048 0.5611561602631688\n",
      "Gaussian OT 13.832653571690628 0.35669772434848757\n",
      "MMD 14.085305475963503 0.578474881871385\n",
      "ConDo Gaussian KLD 15.62164678895152 0.4774149878751159\n",
      "ConDo MMD 15.525582134058165 0.5167555321052653\n"
     ]
    }
   ],
   "source": [
    "print(\"batches\")\n",
    "for key in ch_batches:\n",
    "    print(key, np.mean(ch_batches[key]), np.std(ch_batches[key]))\n",
    "print(\"results\")\n",
    "for key in ch_results:\n",
    "    print(key, np.mean(ch_results[key]), np.std(ch_results[key]))"
   ]
  },
  {
   "cell_type": "code",
   "execution_count": 5,
   "id": "ec93bb66-523f-4cce-8bae-ef821d5d0369",
   "metadata": {},
   "outputs": [
    {
     "name": "stdout",
     "output_type": "stream",
     "text": [
      "batches\n",
      "Original 0.09817462504532037 0.009996373365398032\n",
      "Combat -0.00915689602412837 0.0034784384893987805\n",
      "Gaussian OT -0.03285691170350864 0.0005174882734027204\n",
      "MMD -0.037215044585352915 0.0009206412553440588\n",
      "ConDo Gaussian KLD -0.027573444689279192 0.0015333145211920865\n",
      "ConDo MMD -0.028128536364997063 0.001889300537962599\n",
      "results\n",
      "Original 0.2984110112033573 0.008767660649062647\n",
      "Combat 0.3342038234636949 0.0076011308366087165\n",
      "Gaussian OT 0.2934164448292405 0.005757407923421007\n",
      "MMD 0.2965584848147838 0.00968056296525825\n",
      "ConDo Gaussian KLD 0.32116720796038767 0.007203069152339294\n",
      "ConDo MMD 0.31955900545904786 0.007960047943809466\n"
     ]
    }
   ],
   "source": [
    "print(\"batches\")\n",
    "for key in sil_batches:\n",
    "    print(key, np.mean(sil_batches[key]), np.std(sil_batches[key]))\n",
    "print(\"results\")\n",
    "for key in sil_results:\n",
    "    print(key, np.mean(sil_results[key]), np.std(sil_results[key]))"
   ]
  },
  {
   "cell_type": "code",
   "execution_count": null,
   "id": "630ece05-964a-4b70-8147-ee2920810f18",
   "metadata": {},
   "outputs": [],
   "source": []
  }
 ],
 "metadata": {
  "kernelspec": {
   "display_name": "Python 3 (ipykernel)",
   "language": "python",
   "name": "python3"
  },
  "language_info": {
   "codemirror_mode": {
    "name": "ipython",
    "version": 3
   },
   "file_extension": ".py",
   "mimetype": "text/x-python",
   "name": "python",
   "nbconvert_exporter": "python",
   "pygments_lexer": "ipython3",
   "version": "3.9.18"
  }
 },
 "nbformat": 4,
 "nbformat_minor": 5
}
