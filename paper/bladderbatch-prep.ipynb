{
 "cells": [
  {
   "cell_type": "code",
   "execution_count": 9,
   "id": "8e738ec9-3630-49b8-9c4f-55f32d1de798",
   "metadata": {},
   "outputs": [],
   "source": [
    "import matplotlib.pyplot as plt\n",
    "import numpy as np\n",
    "import pandas as pd\n",
    "import sklearn.manifold as skmf\n",
    "\n"
   ]
  },
  {
   "cell_type": "code",
   "execution_count": 2,
   "id": "068af764-9cee-46d4-9d5d-8cdf79ce3d64",
   "metadata": {},
   "outputs": [],
   "source": [
    "pheno = pd.read_table('bladder-pheno.txt', index_col=0)\n",
    "dat = pd.read_table('bladder-expr.txt', index_col=0)"
   ]
  },
  {
   "cell_type": "code",
   "execution_count": 3,
   "id": "a815c1a1-4590-4310-8be0-949b430a60ec",
   "metadata": {},
   "outputs": [
    {
     "data": {
      "text/plain": [
       "(22283, 57)"
      ]
     },
     "execution_count": 3,
     "metadata": {},
     "output_type": "execute_result"
    }
   ],
   "source": [
    "dat.shape"
   ]
  },
  {
   "cell_type": "code",
   "execution_count": 4,
   "id": "55c8f17f-d91e-4435-b9b5-646faae63b73",
   "metadata": {},
   "outputs": [
    {
     "data": {
      "text/plain": [
       "(57, 5)"
      ]
     },
     "execution_count": 4,
     "metadata": {},
     "output_type": "execute_result"
    }
   ],
   "source": [
    "pheno.shape"
   ]
  },
  {
   "cell_type": "code",
   "execution_count": 8,
   "id": "88cdc875-74aa-4785-8e16-69f0fba31f36",
   "metadata": {},
   "outputs": [
    {
     "name": "stderr",
     "output_type": "stream",
     "text": [
      "/Users/calvinm/miniconda3/envs/condo/lib/python3.8/site-packages/sklearn/manifold/_t_sne.py:780: FutureWarning: The default initialization in TSNE will change from 'random' to 'pca' in 1.2.\n",
      "  warnings.warn(\n",
      "/Users/calvinm/miniconda3/envs/condo/lib/python3.8/site-packages/sklearn/manifold/_t_sne.py:790: FutureWarning: The default learning rate in TSNE will change from 200.0 to 'auto' in 1.2.\n",
      "  warnings.warn(\n"
     ]
    }
   ],
   "source": [
    "expr = dat.T\n",
    "tsner = skmf.TSNE(n_components=2)\n",
    "tsne_expr = tsner.fit_transform(expr)"
   ]
  },
  {
   "cell_type": "code",
   "execution_count": 37,
   "id": "00fe16ea-b5b8-4dd7-b66e-d5d6a0c49431",
   "metadata": {},
   "outputs": [
    {
     "data": {
      "image/png": "[encoded data removed]",
      "text/plain": [
       "<Figure size 432x288 with 1 Axes>"
      ]
     },
     "metadata": {
      "needs_background": "light"
     },
     "output_type": "display_data"
    },
    {
     "data": {
      "image/png": "[encoded data removed]",
      "text/plain": [
       "<Figure size 432x288 with 1 Axes>"
      ]
     },
     "metadata": {
      "needs_background": "light"
     },
     "output_type": "display_data"
    }
   ],
   "source": [
    "plt.figure();\n",
    "for batch in range(1, 6):\n",
    "    bixs = np.where(pheno.batch == batch)[0]\n",
    "    plt.scatter(tsne_expr[bixs, 0], tsne_expr[bixs,1]);\n",
    "plt.legend(list(range(1, 6)));\n",
    "\n",
    "plt.figure();\n",
    "for cancer in [\"Normal\", \"Cancer\", \"Biopsy\"]:\n",
    "    bixs = np.where(pheno.cancer == cancer)[0]\n",
    "    plt.scatter(tsne_expr[bixs, 0], tsne_expr[bixs,1]);\n",
    "plt.legend([\"Normal\", \"Cancer\", \"Biopsy\"]);"
   ]
  },
  {
   "cell_type": "code",
   "execution_count": 49,
   "id": "45e8af41-c221-4bcb-a4c1-182181ed5c55",
   "metadata": {},
   "outputs": [
    {
     "name": "stdout",
     "output_type": "stream",
     "text": [
      "Cancer    29\n",
      "Normal     4\n",
      "Biopsy     4\n",
      "Name: cancer, dtype: int64\n"
     ]
    },
    {
     "name": "stderr",
     "output_type": "stream",
     "text": [
      "/var/folders/v4/3xrgrxhn7djdts76_v6vkfjc0000gn/T/ipykernel_76893/412698793.py:5: SettingWithCopyWarning: \n",
      "A value is trying to be set on a copy of a slice from a DataFrame.\n",
      "Try using .loc[row_indexer,col_indexer] = value instead\n",
      "\n",
      "See the caveats in the documentation: https://pandas.pydata.org/pandas-docs/stable/user_guide/indexing.html#returning-a-view-versus-a-copy\n",
      "  pheno25[\"result\"] = pheno[\"cancer\"].apply(lambda x: resmap[x])\n"
     ]
    }
   ],
   "source": [
    "pheno25 = pheno[pheno.batch.isin([2, 5])]\n",
    "expr25 = expr[pheno.batch.isin([2, 5])]\n",
    "print(pheno25.cancer.value_counts())\n",
    "resmap = {\"Normal\": \"NotCancer\", \"Cancer\": \"Cancer\", \"Biopsy\": \"NotCancer\"}    \n",
    "pheno25[\"result\"] = pheno[\"cancer\"].apply(lambda x: resmap[x])\n",
    "\n",
    "pheno25.to_csv(\"pheno25.csv\")\n",
    "expr25.to_csv(\"expr25.csv\")"
   ]
  },
  {
   "cell_type": "code",
   "execution_count": 42,
   "id": "4f92ac28-f5d3-4270-ba6d-bd88c7f649c7",
   "metadata": {},
   "outputs": [
    {
     "data": {
      "text/plain": [
       "Cancer    40\n",
       "Biopsy     9\n",
       "Normal     8\n",
       "Name: cancer, dtype: int64"
      ]
     },
     "execution_count": 42,
     "metadata": {},
     "output_type": "execute_result"
    }
   ],
   "source": [
    "pheno.cancer.value_counts()"
   ]
  },
  {
   "cell_type": "code",
   "execution_count": 31,
   "id": "1c09033c-5a70-417a-8119-4622870c760f",
   "metadata": {},
   "outputs": [
    {
     "data": {
      "text/plain": [
       "Cancer    40\n",
       "Normal     4\n",
       "Biopsy     4\n",
       "Name: cancer, dtype: int64"
      ]
     },
     "execution_count": 31,
     "metadata": {},
     "output_type": "execute_result"
    }
   ],
   "source": [
    "pheno[pheno.batch.isin([1, 2, 5])].cancer.value_counts()"
   ]
  },
  {
   "cell_type": "code",
   "execution_count": 45,
   "id": "83b22e0f-11af-4259-8be9-ea8c79d370f5",
   "metadata": {},
   "outputs": [
    {
     "data": {
      "text/html": [
       "<div>\n",
       "<style scoped>\n",
       "    .dataframe tbody tr th:only-of-type {\n",
       "        vertical-align: middle;\n",
       "    }\n",
       "\n",
       "    .dataframe tbody tr th {\n",
       "        vertical-align: top;\n",
       "    }\n",
       "\n",
       "    .dataframe thead th {\n",
       "        text-align: right;\n",
       "    }\n",
       "</style>\n",
       "<table border=\"1\" class=\"dataframe\">\n",
       "  <thead>\n",
       "    <tr style=\"text-align: right;\">\n",
       "      <th></th>\n",
       "      <th>sample</th>\n",
       "      <th>outcome</th>\n",
       "      <th>batch</th>\n",
       "      <th>cancer</th>\n",
       "      <th>age</th>\n",
       "      <th>result</th>\n",
       "    </tr>\n",
       "    <tr>\n",
       "      <th>cel</th>\n",
       "      <th></th>\n",
       "      <th></th>\n",
       "      <th></th>\n",
       "      <th></th>\n",
       "      <th></th>\n",
       "      <th></th>\n",
       "    </tr>\n",
       "  </thead>\n",
       "  <tbody>\n",
       "    <tr>\n",
       "      <th>GSM71020.CEL</th>\n",
       "      <td>2</td>\n",
       "      <td>Normal</td>\n",
       "      <td>2</td>\n",
       "      <td>Normal</td>\n",
       "      <td>2</td>\n",
       "      <td>NotCancer</td>\n",
       "    </tr>\n",
       "    <tr>\n",
       "      <th>GSM71021.CEL</th>\n",
       "      <td>3</td>\n",
       "      <td>Normal</td>\n",
       "      <td>2</td>\n",
       "      <td>Normal</td>\n",
       "      <td>3</td>\n",
       "      <td>NotCancer</td>\n",
       "    </tr>\n",
       "    <tr>\n",
       "      <th>GSM71025.CEL</th>\n",
       "      <td>7</td>\n",
       "      <td>Normal</td>\n",
       "      <td>2</td>\n",
       "      <td>Normal</td>\n",
       "      <td>7</td>\n",
       "      <td>NotCancer</td>\n",
       "    </tr>\n",
       "    <tr>\n",
       "      <th>GSM71026.CEL</th>\n",
       "      <td>8</td>\n",
       "      <td>Normal</td>\n",
       "      <td>2</td>\n",
       "      <td>Normal</td>\n",
       "      <td>1</td>\n",
       "      <td>NotCancer</td>\n",
       "    </tr>\n",
       "    <tr>\n",
       "      <th>GSM71028.CEL</th>\n",
       "      <td>9</td>\n",
       "      <td>sTCC+CIS</td>\n",
       "      <td>5</td>\n",
       "      <td>Cancer</td>\n",
       "      <td>2</td>\n",
       "      <td>Cancer</td>\n",
       "    </tr>\n",
       "    <tr>\n",
       "      <th>GSM71029.CEL</th>\n",
       "      <td>10</td>\n",
       "      <td>sTCC-CIS</td>\n",
       "      <td>2</td>\n",
       "      <td>Cancer</td>\n",
       "      <td>3</td>\n",
       "      <td>Cancer</td>\n",
       "    </tr>\n",
       "    <tr>\n",
       "      <th>GSM71030.CEL</th>\n",
       "      <td>11</td>\n",
       "      <td>sTCC-CIS</td>\n",
       "      <td>5</td>\n",
       "      <td>Cancer</td>\n",
       "      <td>4</td>\n",
       "      <td>Cancer</td>\n",
       "    </tr>\n",
       "    <tr>\n",
       "      <th>GSM71031.CEL</th>\n",
       "      <td>12</td>\n",
       "      <td>sTCC-CIS</td>\n",
       "      <td>2</td>\n",
       "      <td>Cancer</td>\n",
       "      <td>5</td>\n",
       "      <td>Cancer</td>\n",
       "    </tr>\n",
       "    <tr>\n",
       "      <th>GSM71032.CEL</th>\n",
       "      <td>13</td>\n",
       "      <td>sTCC+CIS</td>\n",
       "      <td>5</td>\n",
       "      <td>Cancer</td>\n",
       "      <td>6</td>\n",
       "      <td>Cancer</td>\n",
       "    </tr>\n",
       "    <tr>\n",
       "      <th>GSM71033.CEL</th>\n",
       "      <td>14</td>\n",
       "      <td>sTCC-CIS</td>\n",
       "      <td>2</td>\n",
       "      <td>Cancer</td>\n",
       "      <td>7</td>\n",
       "      <td>Cancer</td>\n",
       "    </tr>\n",
       "    <tr>\n",
       "      <th>GSM71034.CEL</th>\n",
       "      <td>15</td>\n",
       "      <td>sTCC+CIS</td>\n",
       "      <td>5</td>\n",
       "      <td>Cancer</td>\n",
       "      <td>8</td>\n",
       "      <td>Cancer</td>\n",
       "    </tr>\n",
       "    <tr>\n",
       "      <th>GSM71035.CEL</th>\n",
       "      <td>16</td>\n",
       "      <td>sTCC+CIS</td>\n",
       "      <td>5</td>\n",
       "      <td>Cancer</td>\n",
       "      <td>9</td>\n",
       "      <td>Cancer</td>\n",
       "    </tr>\n",
       "    <tr>\n",
       "      <th>GSM71036.CEL</th>\n",
       "      <td>17</td>\n",
       "      <td>sTCC-CIS</td>\n",
       "      <td>2</td>\n",
       "      <td>Cancer</td>\n",
       "      <td>10</td>\n",
       "      <td>Cancer</td>\n",
       "    </tr>\n",
       "    <tr>\n",
       "      <th>GSM71038.CEL</th>\n",
       "      <td>19</td>\n",
       "      <td>sTCC+CIS</td>\n",
       "      <td>5</td>\n",
       "      <td>Cancer</td>\n",
       "      <td>2</td>\n",
       "      <td>Cancer</td>\n",
       "    </tr>\n",
       "    <tr>\n",
       "      <th>GSM71040.CEL</th>\n",
       "      <td>21</td>\n",
       "      <td>mTCC</td>\n",
       "      <td>2</td>\n",
       "      <td>Cancer</td>\n",
       "      <td>4</td>\n",
       "      <td>Cancer</td>\n",
       "    </tr>\n",
       "    <tr>\n",
       "      <th>GSM71042.CEL</th>\n",
       "      <td>23</td>\n",
       "      <td>sTCC-CIS</td>\n",
       "      <td>2</td>\n",
       "      <td>Cancer</td>\n",
       "      <td>6</td>\n",
       "      <td>Cancer</td>\n",
       "    </tr>\n",
       "    <tr>\n",
       "      <th>GSM71043.CEL</th>\n",
       "      <td>24</td>\n",
       "      <td>sTCC+CIS</td>\n",
       "      <td>5</td>\n",
       "      <td>Cancer</td>\n",
       "      <td>7</td>\n",
       "      <td>Cancer</td>\n",
       "    </tr>\n",
       "    <tr>\n",
       "      <th>GSM71044.CEL</th>\n",
       "      <td>25</td>\n",
       "      <td>sTCC-CIS</td>\n",
       "      <td>2</td>\n",
       "      <td>Cancer</td>\n",
       "      <td>8</td>\n",
       "      <td>Cancer</td>\n",
       "    </tr>\n",
       "    <tr>\n",
       "      <th>GSM71045.CEL</th>\n",
       "      <td>26</td>\n",
       "      <td>sTCC-CIS</td>\n",
       "      <td>2</td>\n",
       "      <td>Cancer</td>\n",
       "      <td>9</td>\n",
       "      <td>Cancer</td>\n",
       "    </tr>\n",
       "    <tr>\n",
       "      <th>GSM71046.CEL</th>\n",
       "      <td>27</td>\n",
       "      <td>sTCC+CIS</td>\n",
       "      <td>5</td>\n",
       "      <td>Cancer</td>\n",
       "      <td>10</td>\n",
       "      <td>Cancer</td>\n",
       "    </tr>\n",
       "    <tr>\n",
       "      <th>GSM71049.CEL</th>\n",
       "      <td>30</td>\n",
       "      <td>sTCC-CIS</td>\n",
       "      <td>2</td>\n",
       "      <td>Cancer</td>\n",
       "      <td>3</td>\n",
       "      <td>Cancer</td>\n",
       "    </tr>\n",
       "    <tr>\n",
       "      <th>GSM71053.CEL</th>\n",
       "      <td>34</td>\n",
       "      <td>sTCC+CIS</td>\n",
       "      <td>5</td>\n",
       "      <td>Cancer</td>\n",
       "      <td>7</td>\n",
       "      <td>Cancer</td>\n",
       "    </tr>\n",
       "    <tr>\n",
       "      <th>GSM71055.CEL</th>\n",
       "      <td>36</td>\n",
       "      <td>sTCC-CIS</td>\n",
       "      <td>2</td>\n",
       "      <td>Cancer</td>\n",
       "      <td>9</td>\n",
       "      <td>Cancer</td>\n",
       "    </tr>\n",
       "    <tr>\n",
       "      <th>GSM71056.CEL</th>\n",
       "      <td>37</td>\n",
       "      <td>sTCC-CIS</td>\n",
       "      <td>2</td>\n",
       "      <td>Cancer</td>\n",
       "      <td>10</td>\n",
       "      <td>Cancer</td>\n",
       "    </tr>\n",
       "    <tr>\n",
       "      <th>GSM71058.CEL</th>\n",
       "      <td>38</td>\n",
       "      <td>sTCC-CIS</td>\n",
       "      <td>2</td>\n",
       "      <td>Cancer</td>\n",
       "      <td>1</td>\n",
       "      <td>Cancer</td>\n",
       "    </tr>\n",
       "    <tr>\n",
       "      <th>GSM71059.CEL</th>\n",
       "      <td>39</td>\n",
       "      <td>sTCC-CIS</td>\n",
       "      <td>2</td>\n",
       "      <td>Cancer</td>\n",
       "      <td>2</td>\n",
       "      <td>Cancer</td>\n",
       "    </tr>\n",
       "    <tr>\n",
       "      <th>GSM71061.CEL</th>\n",
       "      <td>41</td>\n",
       "      <td>sTCC+CIS</td>\n",
       "      <td>5</td>\n",
       "      <td>Cancer</td>\n",
       "      <td>4</td>\n",
       "      <td>Cancer</td>\n",
       "    </tr>\n",
       "    <tr>\n",
       "      <th>GSM71062.CEL</th>\n",
       "      <td>42</td>\n",
       "      <td>sTCC+CIS</td>\n",
       "      <td>5</td>\n",
       "      <td>Cancer</td>\n",
       "      <td>5</td>\n",
       "      <td>Cancer</td>\n",
       "    </tr>\n",
       "    <tr>\n",
       "      <th>GSM71063.CEL</th>\n",
       "      <td>43</td>\n",
       "      <td>sTCC+CIS</td>\n",
       "      <td>5</td>\n",
       "      <td>Cancer</td>\n",
       "      <td>6</td>\n",
       "      <td>Cancer</td>\n",
       "    </tr>\n",
       "    <tr>\n",
       "      <th>GSM71064.CEL</th>\n",
       "      <td>44</td>\n",
       "      <td>sTCC-CIS</td>\n",
       "      <td>2</td>\n",
       "      <td>Cancer</td>\n",
       "      <td>7</td>\n",
       "      <td>Cancer</td>\n",
       "    </tr>\n",
       "    <tr>\n",
       "      <th>GSM71065.CEL</th>\n",
       "      <td>45</td>\n",
       "      <td>sTCC-CIS</td>\n",
       "      <td>5</td>\n",
       "      <td>Cancer</td>\n",
       "      <td>8</td>\n",
       "      <td>Cancer</td>\n",
       "    </tr>\n",
       "    <tr>\n",
       "      <th>GSM71067.CEL</th>\n",
       "      <td>47</td>\n",
       "      <td>sTCC-CIS</td>\n",
       "      <td>5</td>\n",
       "      <td>Cancer</td>\n",
       "      <td>10</td>\n",
       "      <td>Cancer</td>\n",
       "    </tr>\n",
       "    <tr>\n",
       "      <th>GSM71068.CEL</th>\n",
       "      <td>48</td>\n",
       "      <td>sTCC+CIS</td>\n",
       "      <td>5</td>\n",
       "      <td>Cancer</td>\n",
       "      <td>1</td>\n",
       "      <td>Cancer</td>\n",
       "    </tr>\n",
       "    <tr>\n",
       "      <th>GSM71071.CEL</th>\n",
       "      <td>51</td>\n",
       "      <td>Biopsy</td>\n",
       "      <td>5</td>\n",
       "      <td>Biopsy</td>\n",
       "      <td>4</td>\n",
       "      <td>NotCancer</td>\n",
       "    </tr>\n",
       "    <tr>\n",
       "      <th>GSM71072.CEL</th>\n",
       "      <td>52</td>\n",
       "      <td>Biopsy</td>\n",
       "      <td>5</td>\n",
       "      <td>Biopsy</td>\n",
       "      <td>5</td>\n",
       "      <td>NotCancer</td>\n",
       "    </tr>\n",
       "    <tr>\n",
       "      <th>GSM71073.CEL</th>\n",
       "      <td>53</td>\n",
       "      <td>Biopsy</td>\n",
       "      <td>5</td>\n",
       "      <td>Biopsy</td>\n",
       "      <td>6</td>\n",
       "      <td>NotCancer</td>\n",
       "    </tr>\n",
       "    <tr>\n",
       "      <th>GSM71074.CEL</th>\n",
       "      <td>54</td>\n",
       "      <td>Biopsy</td>\n",
       "      <td>5</td>\n",
       "      <td>Biopsy</td>\n",
       "      <td>7</td>\n",
       "      <td>NotCancer</td>\n",
       "    </tr>\n",
       "  </tbody>\n",
       "</table>\n",
       "</div>"
      ],
      "text/plain": [
       "              sample   outcome  batch  cancer  age     result\n",
       "cel                                                          \n",
       "GSM71020.CEL       2    Normal      2  Normal    2  NotCancer\n",
       "GSM71021.CEL       3    Normal      2  Normal    3  NotCancer\n",
       "GSM71025.CEL       7    Normal      2  Normal    7  NotCancer\n",
       "GSM71026.CEL       8    Normal      2  Normal    1  NotCancer\n",
       "GSM71028.CEL       9  sTCC+CIS      5  Cancer    2     Cancer\n",
       "GSM71029.CEL      10  sTCC-CIS      2  Cancer    3     Cancer\n",
       "GSM71030.CEL      11  sTCC-CIS      5  Cancer    4     Cancer\n",
       "GSM71031.CEL      12  sTCC-CIS      2  Cancer    5     Cancer\n",
       "GSM71032.CEL      13  sTCC+CIS      5  Cancer    6     Cancer\n",
       "GSM71033.CEL      14  sTCC-CIS      2  Cancer    7     Cancer\n",
       "GSM71034.CEL      15  sTCC+CIS      5  Cancer    8     Cancer\n",
       "GSM71035.CEL      16  sTCC+CIS      5  Cancer    9     Cancer\n",
       "GSM71036.CEL      17  sTCC-CIS      2  Cancer   10     Cancer\n",
       "GSM71038.CEL      19  sTCC+CIS      5  Cancer    2     Cancer\n",
       "GSM71040.CEL      21      mTCC      2  Cancer    4     Cancer\n",
       "GSM71042.CEL      23  sTCC-CIS      2  Cancer    6     Cancer\n",
       "GSM71043.CEL      24  sTCC+CIS      5  Cancer    7     Cancer\n",
       "GSM71044.CEL      25  sTCC-CIS      2  Cancer    8     Cancer\n",
       "GSM71045.CEL      26  sTCC-CIS      2  Cancer    9     Cancer\n",
       "GSM71046.CEL      27  sTCC+CIS      5  Cancer   10     Cancer\n",
       "GSM71049.CEL      30  sTCC-CIS      2  Cancer    3     Cancer\n",
       "GSM71053.CEL      34  sTCC+CIS      5  Cancer    7     Cancer\n",
       "GSM71055.CEL      36  sTCC-CIS      2  Cancer    9     Cancer\n",
       "GSM71056.CEL      37  sTCC-CIS      2  Cancer   10     Cancer\n",
       "GSM71058.CEL      38  sTCC-CIS      2  Cancer    1     Cancer\n",
       "GSM71059.CEL      39  sTCC-CIS      2  Cancer    2     Cancer\n",
       "GSM71061.CEL      41  sTCC+CIS      5  Cancer    4     Cancer\n",
       "GSM71062.CEL      42  sTCC+CIS      5  Cancer    5     Cancer\n",
       "GSM71063.CEL      43  sTCC+CIS      5  Cancer    6     Cancer\n",
       "GSM71064.CEL      44  sTCC-CIS      2  Cancer    7     Cancer\n",
       "GSM71065.CEL      45  sTCC-CIS      5  Cancer    8     Cancer\n",
       "GSM71067.CEL      47  sTCC-CIS      5  Cancer   10     Cancer\n",
       "GSM71068.CEL      48  sTCC+CIS      5  Cancer    1     Cancer\n",
       "GSM71071.CEL      51    Biopsy      5  Biopsy    4  NotCancer\n",
       "GSM71072.CEL      52    Biopsy      5  Biopsy    5  NotCancer\n",
       "GSM71073.CEL      53    Biopsy      5  Biopsy    6  NotCancer\n",
       "GSM71074.CEL      54    Biopsy      5  Biopsy    7  NotCancer"
      ]
     },
     "execution_count": 45,
     "metadata": {},
     "output_type": "execute_result"
    }
   ],
   "source": [
    "pheno25"
   ]
  },
  {
   "cell_type": "code",
   "execution_count": 46,
   "id": "b21df3c8-558e-4645-8674-00d924b5272b",
   "metadata": {},
   "outputs": [
    {
     "data": {
      "text/plain": [
       "Cancer    29\n",
       "Normal     4\n",
       "Biopsy     4\n",
       "Name: cancer, dtype: int64"
      ]
     },
     "execution_count": 46,
     "metadata": {},
     "output_type": "execute_result"
    }
   ],
   "source": [
    "pheno25.cancer.value_counts()"
   ]
  },
  {
   "cell_type": "code",
   "execution_count": null,
   "id": "318ec7c8-ebb4-43b6-b991-2cf7850cbcee",
   "metadata": {},
   "outputs": [],
   "source": []
  }
 ],
 "metadata": {
  "kernelspec": {
   "display_name": "Python 3 (ipykernel)",
   "language": "python",
   "name": "python3"
  },
  "language_info": {
   "codemirror_mode": {
    "name": "ipython",
    "version": 3
   },
   "file_extension": ".py",
   "mimetype": "text/x-python",
   "name": "python",
   "nbconvert_exporter": "python",
   "pygments_lexer": "ipython3",
   "version": "3.8.12"
  }
 },
 "nbformat": 4,
 "nbformat_minor": 5
}
