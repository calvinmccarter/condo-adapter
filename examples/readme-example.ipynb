{
 "cells": [
  {
   "cell_type": "code",
   "execution_count": 1,
   "id": "2691a8ef-0c44-45e6-9ae9-5188c8ad697b",
   "metadata": {},
   "outputs": [
    {
     "name": "stdout",
     "output_type": "stream",
     "text": [
      "before ConDo: 12083.742\n",
      "after ConDo:  0.291\n"
     ]
    }
   ],
   "source": [
    "import numpy as np\n",
    "from condo import ConDoAdapterKLD\n",
    "\n",
    "X_T = np.sort(np.random.uniform(0, 8, size=(100, 1)))\n",
    "X_S = np.sort(np.random.uniform(4, 8, size=(100, 1)))\n",
    "Y_T = np.random.normal(4 * X_T + 1, 1 * X_T + 1)\n",
    "Y_Strue = np.random.normal(4 * X_S + 1, 1 * X_S + 1)\n",
    "Y_S = 5 * Y_Strue + 2\n",
    "condoer = ConDoAdapterKLD()\n",
    "condoer.fit(Y_S, Y_T, X_S, X_T)\n",
    "Y_S2T = condoer.transform(Y_S)\n",
    "print(f\"before ConDo: {np.mean((Y_S - Y_Strue) ** 2):.3f}\")\n",
    "print(f\"after ConDo:  {np.mean((Y_S2T - Y_Strue) ** 2):.3f}\")"
   ]
  },
  {
   "cell_type": "code",
   "execution_count": null,
   "id": "19b8a50b-1584-47ff-a835-a8d142703f7a",
   "metadata": {},
   "outputs": [],
   "source": []
  }
 ],
 "metadata": {
  "kernelspec": {
   "display_name": "Python 3 (ipykernel)",
   "language": "python",
   "name": "python3"
  },
  "language_info": {
   "codemirror_mode": {
    "name": "ipython",
    "version": 3
   },
   "file_extension": ".py",
   "mimetype": "text/x-python",
   "name": "python",
   "nbconvert_exporter": "python",
   "pygments_lexer": "ipython3",
   "version": "3.9.18"
  }
 },
 "nbformat": 4,
 "nbformat_minor": 5
}
